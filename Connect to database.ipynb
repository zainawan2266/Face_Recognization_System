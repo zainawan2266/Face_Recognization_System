{
 "cells": [
  {
   "cell_type": "code",
   "execution_count": 1,
   "id": "728e39e8-cbc7-42f9-8a85-01b1a48557e0",
   "metadata": {},
   "outputs": [],
   "source": [
    "import mysql.connector"
   ]
  },
  {
   "cell_type": "code",
   "execution_count": 2,
   "id": "9441b9de-c452-44f5-a111-8f56d5317fc2",
   "metadata": {},
   "outputs": [
    {
     "name": "stdout",
     "output_type": "stream",
     "text": [
      "<mysql.connector.connection_cext.CMySQLConnection object at 0x000001DB83821390>\n"
     ]
    }
   ],
   "source": [
    "mydb=mysql.connector.connect(\n",
    "    host=\"localhost\",\n",
    "    user=\"root\",\n",
    "    passwd=\"\"\n",
    ")\n",
    "print(mydb)"
   ]
  },
  {
   "cell_type": "code",
   "execution_count": 3,
   "id": "c0e7c0ae-9a5c-4159-ab03-737542dad99c",
   "metadata": {},
   "outputs": [],
   "source": [
    "mycursor=mydb.cursor()\n",
    "mycursor.execute(\"CREATE DATABASE users\")"
   ]
  },
  {
   "cell_type": "code",
   "execution_count": 5,
   "id": "2f7aa028-14cc-4fbe-97cf-ba60fbc1484a",
   "metadata": {},
   "outputs": [
    {
     "name": "stdout",
     "output_type": "stream",
     "text": [
      "('aa',)\n",
      "('adil',)\n",
      "('ali',)\n",
      "('asad',)\n",
      "('bb',)\n",
      "('cat',)\n",
      "('cv',)\n",
      "('danish',)\n",
      "('digital panda',)\n",
      "('ff',)\n",
      "('fiaz',)\n",
      "('fiaz2',)\n",
      "('flower',)\n",
      "('gg',)\n",
      "('gs',)\n",
      "('hh',)\n",
      "('information_schema',)\n",
      "('kg',)\n",
      "('ms',)\n",
      "('mysql',)\n",
      "('noman',)\n",
      "('ns',)\n",
      "('pakistan1',)\n",
      "('pakistan2',)\n",
      "('performance_schema',)\n",
      "('phpmyadmin',)\n",
      "('pk',)\n",
      "('rehman',)\n",
      "('rockbuttongolf.com',)\n",
      "('saddam',)\n",
      "('sk',)\n",
      "('ss',)\n",
      "('taha',)\n",
      "('test',)\n",
      "('users',)\n",
      "('wordpress',)\n"
     ]
    }
   ],
   "source": [
    "mycursor.execute(\"SHOW DATABASES\")\n",
    "for x in mycursor:\n",
    "    print(x)"
   ]
  },
  {
   "cell_type": "code",
   "execution_count": null,
   "id": "29315551-8fef-4bac-a6f3-3ef7a3b11b08",
   "metadata": {},
   "outputs": [],
   "source": []
  }
 ],
 "metadata": {
  "kernelspec": {
   "display_name": "Python 3 (ipykernel)",
   "language": "python",
   "name": "python3"
  },
  "language_info": {
   "codemirror_mode": {
    "name": "ipython",
    "version": 3
   },
   "file_extension": ".py",
   "mimetype": "text/x-python",
   "name": "python",
   "nbconvert_exporter": "python",
   "pygments_lexer": "ipython3",
   "version": "3.10.7"
  }
 },
 "nbformat": 4,
 "nbformat_minor": 5
}
